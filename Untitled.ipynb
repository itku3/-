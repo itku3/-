{
 "cells": [
  {
   "cell_type": "code",
   "execution_count": 6,
   "metadata": {},
   "outputs": [],
   "source": [
    "import numpy\n",
    "import pandas as pd"
   ]
  },
  {
   "cell_type": "code",
   "execution_count": 17,
   "metadata": {},
   "outputs": [],
   "source": [
    "df = pd.read_csv('data/data.CSV',encoding='euc-kr')"
   ]
  },
  {
   "cell_type": "code",
   "execution_count": 18,
   "metadata": {},
   "outputs": [
    {
     "name": "stdout",
     "output_type": "stream",
     "text": [
      "      월   요일    사고건수  사망자수    중상자수    경상자수  부상신고자수  Unnamed: 7\n",
      "0   01월    일  2232.0  67.0  1080.0  2625.0   159.0         NaN\n",
      "1   01월    월  2535.0  55.0  1207.0  2627.0   142.0         NaN\n",
      "2   01월    화  2617.0  67.0  1253.0  2664.0   135.0         NaN\n",
      "3   01월    수  2231.0  62.0  1019.0  2274.0   114.0         NaN\n",
      "4   01월    목  2453.0  66.0  1078.0  2338.0   135.0         NaN\n",
      "..  ...  ...     ...   ...     ...     ...     ...         ...\n",
      "80  12월    수  2367.0  57.0   981.0  2428.0   163.0         NaN\n",
      "81  12월    목  2302.0  51.0  1020.0  2361.0   167.0         NaN\n",
      "82  12월    금  2735.0  69.0  1306.0  2912.0   179.0         NaN\n",
      "83  12월    토  2942.0  65.0  1292.0  3367.0   211.0         NaN\n",
      "84  NaN  NaN     NaN   NaN     NaN     NaN     NaN         NaN\n",
      "\n",
      "[85 rows x 8 columns]\n"
     ]
    }
   ],
   "source": [
    "print(df)"
   ]
  }
 ],
 "metadata": {
  "kernelspec": {
   "display_name": "Python 3",
   "language": "python",
   "name": "python3"
  },
  "language_info": {
   "codemirror_mode": {
    "name": "ipython",
    "version": 3
   },
   "file_extension": ".py",
   "mimetype": "text/x-python",
   "name": "python",
   "nbconvert_exporter": "python",
   "pygments_lexer": "ipython3",
   "version": "3.9.0"
  }
 },
 "nbformat": 4,
 "nbformat_minor": 4
}
